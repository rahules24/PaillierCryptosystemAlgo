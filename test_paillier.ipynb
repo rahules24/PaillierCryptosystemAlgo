{
 "cells": [
  {
   "cell_type": "code",
   "execution_count": 1,
   "metadata": {},
   "outputs": [
    {
     "name": "stdout",
     "output_type": "stream",
     "text": [
      "<class 'tuple'>\n",
      "(158106160089337662534458915482058647129, 158106160089337662534458915482058647130)\n"
     ]
    }
   ],
   "source": [
    "import Paillier\n",
    "\n",
    "# Create instance of Paillier \n",
    "paillier_object = Paillier.Paillier()\n",
    "public_key, private_key = paillier_object.key_generation(64)\n",
    "print(type(public_key))\n",
    "print(public_key)\n",
    "# print(paillier_object.encrypt((public_key), m))  "
   ]
  },
  {
   "cell_type": "code",
   "execution_count": 2,
   "metadata": {},
   "outputs": [
    {
     "name": "stdout",
     "output_type": "stream",
     "text": [
      "<class 'int'>\n",
      "<class 'int'>\n",
      "<class 'int'>\n",
      "<class 'int'>\n",
      "158106160089337662509132559185055762340\n",
      "158106160089337662509132559185055762340\n",
      "<class 'int'>\n"
     ]
    }
   ],
   "source": [
    "m=10000000\n",
    "n,g = public_key\n",
    "lambda_val, mu = private_key\n",
    "print(type(n))\n",
    "print(type(g))\n",
    "print(type(lambda_val))\n",
    "print(type(mu))\n",
    "\n",
    "print(lambda_val)\n",
    "print(int(lambda_val))\n",
    "print(type(int(lambda_val)))"
   ]
  },
  {
   "cell_type": "code",
   "execution_count": 3,
   "metadata": {},
   "outputs": [
    {
     "name": "stdout",
     "output_type": "stream",
     "text": [
      "18715820980615848871485118411357327039604611366659438574825377059531287068953\n"
     ]
    }
   ],
   "source": [
    "c = paillier_object.encrypt(public_key, m)\n",
    "print(c)  \n"
   ]
  },
  {
   "cell_type": "code",
   "execution_count": 4,
   "metadata": {},
   "outputs": [
    {
     "name": "stdout",
     "output_type": "stream",
     "text": [
      "10000000\n"
     ]
    }
   ],
   "source": [
    "print(paillier_object.decrypt(public_key, private_key, c))"
   ]
  }
 ],
 "metadata": {
  "kernelspec": {
   "display_name": "Python 3",
   "language": "python",
   "name": "python3"
  },
  "language_info": {
   "codemirror_mode": {
    "name": "ipython",
    "version": 3
   },
   "file_extension": ".py",
   "mimetype": "text/x-python",
   "name": "python",
   "nbconvert_exporter": "python",
   "pygments_lexer": "ipython3",
   "version": "3.10.10"
  }
 },
 "nbformat": 4,
 "nbformat_minor": 2
}
